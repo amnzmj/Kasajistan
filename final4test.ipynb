{
 "cells": [
  {
   "cell_type": "code",
   "execution_count": 1,
   "metadata": {},
   "outputs": [],
   "source": [
    "import random\n",
    "\n",
    "# distancia de ciudad a ciudad\n",
    "ciudades = {\n",
    "    'A': {'A': 0, 'B': 1, 'C': 3, 'D': 7, 'E': 1},\n",
    "    'B': {'A': 1, 'B': 0, 'C': 1, 'D': 6, 'E': 4},\n",
    "    'C': {'A': 3, 'B': 1, 'C': 0, 'D': 1, 'E': 2},\n",
    "    'D': {'A': 7, 'B': 6, 'C': 1, 'D': 0, 'E': 1},\n",
    "    'E': {'A': 1, 'B': 4, 'C': 2, 'D': 1, 'E': 0}\n",
    "}"
   ]
  },
  {
   "cell_type": "code",
   "execution_count": 2,
   "metadata": {},
   "outputs": [],
   "source": [
    "def fitness(route):\n",
    "    total_distance = sum(ciudades[route[i]][route[i+1]] for i in range(len(route)-1))\n",
    "    # Add distance from last city back to the starting city\n",
    "    total_distance += ciudades[route[-1]][route[0]]\n",
    "   \n",
    "    return total_distance\n"
   ]
  },
  {
   "cell_type": "code",
   "execution_count": 3,
   "metadata": {},
   "outputs": [],
   "source": [
    "# Generate random route \n",
    "def generate_random_route(ciudades):\n",
    "    route = list(ciudades.keys())\n",
    "    random.shuffle(route)\n",
    "    return route"
   ]
  },
  {
   "cell_type": "code",
   "execution_count": 226,
   "metadata": {},
   "outputs": [],
   "source": [
    "def crossover(parent1, parent2):\n",
    "    # print(\"parent 1 t\",parent1)\n",
    "    crossover_point = random.randint(1, len(parent1) - 1) #Se resta 1 a la longitud de parent1 para asegurarse de que el punto de cruce no sea el último índice de la lista. \n",
    "    child1 = parent1[:crossover_point] + [city for city in parent2 if city not in parent1[:crossover_point]]\n",
    "    child2 = parent2[:crossover_point] + [city for city in parent1 if city not in parent2[:crossover_point]]\n",
    "    # print(\"parent 1\",parent1)\n",
    "    # print(\"parent 2\",parent2)\n",
    "    # print(\"child 1\",child1)\n",
    "    # print(\"child 2\",child2)\n",
    "    \n",
    "    return child1, child2\n"
   ]
  },
  {
   "cell_type": "code",
   "execution_count": 227,
   "metadata": {},
   "outputs": [],
   "source": [
    "# Mutation for TSP\n",
    "def mutate(route, mutation_rate):\n",
    "    if random.random() < mutation_rate:#probabilidad que mute\n",
    "        idx1, idx2 = random.sample(range(len(route)), 2)\n",
    "        route[idx1], route[idx2] = route[idx2], route[idx1]\n",
    "    return route"
   ]
  },
  {
   "cell_type": "code",
   "execution_count": 231,
   "metadata": {},
   "outputs": [],
   "source": [
    "# Roulette wheel selection for TSP\n",
    "def roulette_wheel_selection(population, fitness_values):\n",
    "    total_fitness = sum(fitness_values)\n",
    "    #print(total_fitness)\n",
    "    selection_probabilities = [fitness / total_fitness for fitness in fitness_values]\n",
    "    #print(selection_probabilities)\n",
    "    cumulative_probabilities = [sum(selection_probabilities[:i+1]) for i in range(len(selection_probabilities))]\n",
    "    selected_parents = []\n",
    "    for _ in range(2):\n",
    "        random_value = random.random()\n",
    "        for i, cumulative_probability in enumerate(cumulative_probabilities):\n",
    "            if random_value <= cumulative_probability:\n",
    "                selected_parents.append(population[i])\n",
    "                break\n",
    "            print()\n",
    "    return selected_parents"
   ]
  },
  {
   "cell_type": "code",
   "execution_count": 232,
   "metadata": {},
   "outputs": [],
   "source": [
    "# Evolutionary algorithm for TSP\n",
    "def evolutionary_algorithm(population_size, mutation_rate, max_generations):\n",
    "    population = [generate_random_route(ciudades) for _ in range(population_size)]\n",
    "    generation_number = 1\n",
    "    #print(population)\n",
    "\n",
    "    for generation in range(max_generations):\n",
    "        fitness_values = [fitness(route) for route in population]\n",
    "        #print(fitness_values)\n",
    "        if min(fitness_values) == 0:  \n",
    "            index = fitness_values.index(0)\n",
    "            return population[index], generation_number\n",
    "\n",
    "        selected_parents = roulette_wheel_selection(population, fitness_values)\n",
    "        new_population = []\n",
    "\n",
    "        while len(new_population) < population_size:\n",
    "            parent1, parent2 = selected_parents\n",
    "            child1, child2 = crossover(parent1, parent2)\n",
    "            child1 = mutate(child1, mutation_rate)\n",
    "            child2 = mutate(child2, mutation_rate)\n",
    "            new_population.extend([child1, child2])\n",
    "\n",
    "        population = new_population\n",
    "        generation_number += 1\n",
    "\n",
    "    # If no perfect solution is found, return the best solution found so far\n",
    "    index = fitness_values.index(min(fitness_values))\n",
    "    #print(fitness_values)\n",
    "    #print (fitness_values.index)\n",
    "    #print(index)\n",
    "    #print(population)\n",
    "    \n",
    "    return  generation_number, fitness_values, population, index\n",
    "    \n",
    "    "
   ]
  },
  {
   "cell_type": "code",
   "execution_count": 236,
   "metadata": {},
   "outputs": [
    {
     "name": "stdout",
     "output_type": "stream",
     "text": [
      "[0.11188811188811189, 0.08391608391608392, 0.03496503496503497, 0.06993006993006994, 0.11888111888111888, 0.1048951048951049, 0.11888111888111888, 0.15384615384615385, 0.0979020979020979, 0.1048951048951049]\n",
      "[0.07453416149068323, 0.10559006211180125, 0.10559006211180125, 0.08695652173913043, 0.13664596273291926, 0.10559006211180125, 0.10559006211180125, 0.08695652173913043, 0.10559006211180125, 0.08695652173913043]\n",
      "[0.09655172413793103, 0.15172413793103448, 0.11724137931034483, 0.034482758620689655, 0.09655172413793103, 0.15172413793103448, 0.11724137931034483, 0.08275862068965517, 0.11724137931034483, 0.034482758620689655]\n",
      "[0.10232558139534884, 0.10232558139534884, 0.10232558139534884, 0.10232558139534884, 0.10232558139534884, 0.10232558139534884, 0.10232558139534884, 0.10232558139534884, 0.07906976744186046, 0.10232558139534884]\n",
      "[0.10426540284360189, 0.10426540284360189, 0.10426540284360189, 0.10426540284360189, 0.10426540284360189, 0.10426540284360189, 0.061611374407582936, 0.10426540284360189, 0.10426540284360189, 0.10426540284360189]\n",
      "[0.10328638497652583, 0.10328638497652583, 0.10328638497652583, 0.10328638497652583, 0.10328638497652583, 0.10328638497652583, 0.07042253521126761, 0.10328638497652583, 0.10328638497652583, 0.10328638497652583]\n",
      "[0.08620689655172414, 0.08620689655172414, 0.12643678160919541, 0.08620689655172414, 0.12643678160919541, 0.06321839080459771, 0.12643678160919541, 0.08620689655172414, 0.08620689655172414, 0.12643678160919541]\n",
      "[0.125, 0.0625, 0.125, 0.08522727272727272, 0.08522727272727272, 0.09659090909090909, 0.08522727272727272, 0.125, 0.08522727272727272, 0.125]\n",
      "[0.08670520231213873, 0.12716763005780346, 0.08092485549132948, 0.06358381502890173, 0.08670520231213873, 0.12716763005780346, 0.12716763005780346, 0.08670520231213873, 0.08670520231213873, 0.12716763005780346]\n",
      "[0.08875739644970414, 0.1301775147928994, 0.08284023668639054, 0.10059171597633136, 0.1301775147928994, 0.0650887573964497, 0.08284023668639054, 0.10059171597633136, 0.08875739644970414, 0.1301775147928994]\n",
      "poblacion [['A', 'D', 'B', 'C', 'E'], ['A', 'D', 'C', 'B', 'E'], ['A', 'D', 'B', 'C', 'E'], ['A', 'D', 'C', 'B', 'E'], ['A', 'D', 'C', 'B', 'E'], ['A', 'D', 'B', 'C', 'E'], ['A', 'D', 'B', 'C', 'E'], ['A', 'D', 'C', 'B', 'E'], ['A', 'D', 'B', 'C', 'E'], ['A', 'D', 'C', 'B', 'E']]\n",
      "fitness values [15, 22, 14, 17, 22, 11, 14, 17, 15, 22]\n",
      "5\n",
      "ruta mas corta: ['A', 'D', 'B', 'C', 'E']\n",
      "distancia: 11\n",
      "generaciones 11\n"
     ]
    }
   ],
   "source": [
    "# Run the evolutionary algorithm\n",
    "generation_number, fitness_values, population, index= evolutionary_algorithm(population_size=10, mutation_rate=0.1, max_generations=10)\n",
    "print(\"poblacion\", population)\n",
    "print(\"fitness values\",fitness_values)\n",
    "print(index)\n",
    "print(\"ruta mas corta:\", population[index])\n",
    "print(\"distancia:\", fitness_values[index])\n",
    "print(\"generaciones\", generation_number)\n",
    "\n"
   ]
  }
 ],
 "metadata": {
  "kernelspec": {
   "display_name": "Python 3",
   "language": "python",
   "name": "python3"
  },
  "language_info": {
   "codemirror_mode": {
    "name": "ipython",
    "version": 3
   },
   "file_extension": ".py",
   "mimetype": "text/x-python",
   "name": "python",
   "nbconvert_exporter": "python",
   "pygments_lexer": "ipython3",
   "version": "3.12.2"
  }
 },
 "nbformat": 4,
 "nbformat_minor": 2
}
